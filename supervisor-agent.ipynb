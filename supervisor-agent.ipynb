{
 "cells": [
  {
   "cell_type": "code",
   "execution_count": 18,
   "metadata": {},
   "outputs": [],
   "source": [
    "import dotenv\n",
    "dotenv.load_dotenv()\n",
    "\n",
    "from langchain_openai import ChatOpenAI\n",
    "\n",
    "llm = ChatOpenAI(model='gpt-4o-mini')\n"
   ]
  },
  {
   "cell_type": "code",
   "execution_count": 19,
   "metadata": {},
   "outputs": [],
   "source": [
    "from typing import Literal\n",
    "from typing_extensions import TypedDict\n",
    "from langgraph.graph import MessagesState, START, END\n",
    "from langgraph.types import Command\n",
    "\n",
    "# Define available agents\n",
    "members = [\"web_researcher\", \"nl2sql\"]\n",
    "# Add FINISH as an option for task completion\n",
    "options = members + [\"FINISH\"]\n",
    "\n",
    "# Create system prompt for supervisor\n",
    "system_prompt = (\n",
    "    \"You are a supervisor tasked with managing a conversation between the\"\n",
    "    f\" following workers: {members}. Given the following user request,\"\n",
    "    \" respond with the worker to act next. Each worker will perform a\"\n",
    "    \" task and respond with their results and status. When finished,\"\n",
    "    \" respond with FINISH.\"\n",
    ")\n",
    "\n",
    "# Define router type for structured output\n",
    "class Router(TypedDict):\n",
    "    \"\"\"Worker to route to next. If no workers needed, route to FINISH.\"\"\"\n",
    "    next: Literal[\"web_researcher\", \"nl2sql\", \"FINISH\"]\n",
    "\n",
    "# Create supervisor node function\n",
    "def supervisor_node(state: MessagesState) -> Command[Literal[\"web_researcher\", \"nl2sql\", \"__end__\"]]:\n",
    "    messages = [\n",
    "        {\"role\": \"system\", \"content\": system_prompt},\n",
    "    ] + state[\"messages\"]\n",
    "    response = llm.with_structured_output(Router).invoke(messages)\n",
    "    goto = response[\"next\"]\n",
    "    print(f\"Next Worker: {goto}\")\n",
    "    if goto == \"FINISH\":\n",
    "        goto = END\n",
    "    return Command(goto=goto)\n"
   ]
  },
  {
   "cell_type": "code",
   "execution_count": 20,
   "metadata": {},
   "outputs": [],
   "source": [
    "from typing import Annotated, Any, Dict, Sequence, TypedDict\n",
    "from langchain_core.messages import BaseMessage, SystemMessage, HumanMessage\n",
    "from langgraph.graph.message import add_messages\n",
    "from langgraph.graph import StateGraph, START, END\n",
    "from langgraph.prebuilt import ToolNode, tools_condition\n",
    "\n",
    "class AgentState(TypedDict):\n",
    "    \"\"\"The state of the agent.\"\"\"\n",
    "    messages: Annotated[Sequence[BaseMessage], add_messages]\n",
    "\n",
    "def create_agent(llm, tools):\n",
    "    llm_with_tools = llm.bind_tools(tools)\n",
    "    def chatbot(state: AgentState):\n",
    "        return {\"messages\": [llm_with_tools.invoke(state[\"messages\"])]}\n",
    "\n",
    "    graph_builder = StateGraph(AgentState)\n",
    "    graph_builder.add_node(\"agent\", chatbot)\n",
    "\n",
    "    tool_node = ToolNode(tools=tools)\n",
    "    graph_builder.add_node(\"tools\", tool_node)\n",
    "\n",
    "    graph_builder.add_conditional_edges(\n",
    "        \"agent\",\n",
    "        tools_condition,\n",
    "    )\n",
    "    graph_builder.add_edge(\"tools\", \"agent\")\n",
    "    graph_builder.set_entry_point(\"agent\")\n",
    "    return graph_builder.compile()\n"
   ]
  },
  {
   "cell_type": "code",
   "execution_count": 21,
   "metadata": {},
   "outputs": [],
   "source": [
    "from langchain_community.tools.tavily_search import TavilySearchResults\n",
    "\n",
    "web_search_tool = TavilySearchResults(max_results=2)"
   ]
  },
  {
   "cell_type": "code",
   "execution_count": 22,
   "metadata": {},
   "outputs": [
    {
     "name": "stdout",
     "output_type": "stream",
     "text": [
      "--2025-01-30 20:25:11--  https://github.com/lerocha/chinook-database/raw/master/ChinookDatabase/DataSources/Chinook_Sqlite.sqlite\n",
      "Resolving github.com (github.com)... 20.207.73.82\n",
      "Connecting to github.com (github.com)|20.207.73.82|:443... connected.\n",
      "HTTP request sent, awaiting response... 302 Found\n",
      "Location: https://raw.githubusercontent.com/lerocha/chinook-database/master/ChinookDatabase/DataSources/Chinook_Sqlite.sqlite [following]\n",
      "--2025-01-30 20:25:12--  https://raw.githubusercontent.com/lerocha/chinook-database/master/ChinookDatabase/DataSources/Chinook_Sqlite.sqlite\n",
      "Resolving raw.githubusercontent.com (raw.githubusercontent.com)... 185.199.111.133, 185.199.109.133, 185.199.108.133, ...\n",
      "Connecting to raw.githubusercontent.com (raw.githubusercontent.com)|185.199.111.133|:443... connected.\n",
      "HTTP request sent, awaiting response... 200 OK\n",
      "Length: 1067008 (1.0M) [application/octet-stream]\n",
      "Saving to: ‘Chinook_Sqlite.sqlite’\n",
      "\n",
      "Chinook_Sqlite.sqli 100%[===================>]   1.02M  6.74MB/s    in 0.2s    \n",
      "\n",
      "2025-01-30 20:25:12 (6.74 MB/s) - ‘Chinook_Sqlite.sqlite’ saved [1067008/1067008]\n",
      "\n"
     ]
    }
   ],
   "source": [
    "!wget https://github.com/lerocha/chinook-database/raw/master/ChinookDatabase/DataSources/Chinook_Sqlite.sqlite\n",
    "!mv Chinook_Sqlite.sqlite Chinook.db"
   ]
  },
  {
   "cell_type": "code",
   "execution_count": 23,
   "metadata": {},
   "outputs": [],
   "source": [
    "from langchain_community.utilities import SQLDatabase\n",
    "\n",
    "db = SQLDatabase.from_uri(\"sqlite:///Chinook.db\")\n"
   ]
  },
  {
   "cell_type": "code",
   "execution_count": 24,
   "metadata": {},
   "outputs": [],
   "source": [
    "import re\n",
    "\n",
    "def clean_sql_query(text: str) -> str:\n",
    "    \"\"\"\n",
    "    Clean SQL query by removing code block syntax, various SQL tags, backticks,\n",
    "    prefixes, and unnecessary whitespace while preserving the core SQL query.\n",
    "\n",
    "    Args:\n",
    "        text (str): Raw SQL query text that may contain code blocks, tags, and backticks\n",
    "\n",
    "    Returns:\n",
    "        str: Cleaned SQL query\n",
    "    \"\"\"\n",
    "    # Step 1: Remove code block syntax and any SQL-related tags\n",
    "    # This handles variations like ```sql, ```SQL, ```SQLQuery, etc.\n",
    "    block_pattern = r\"```(?:sql|SQL|SQLQuery|mysql|postgresql)?\\s*(.*?)\\s*```\"\n",
    "    text = re.sub(block_pattern, r\"\\1\", text, flags=re.DOTALL)\n",
    "\n",
    "    # Step 2: Handle \"SQLQuery:\" prefix and similar variations\n",
    "    # This will match patterns like \"SQLQuery:\", \"SQL Query:\", \"MySQL:\", etc.\n",
    "    prefix_pattern = r\"^(?:SQL\\s*Query|SQLQuery|MySQL|PostgreSQL|SQL)\\s*:\\s*\"\n",
    "    text = re.sub(prefix_pattern, \"\", text, flags=re.IGNORECASE)\n",
    "\n",
    "    # Step 3: Extract the first SQL statement if there's random text after it\n",
    "    # Look for a complete SQL statement ending with semicolon\n",
    "    sql_statement_pattern = r\"(SELECT.*?;)\"\n",
    "    sql_match = re.search(sql_statement_pattern, text, flags=re.IGNORECASE | re.DOTALL)\n",
    "    if sql_match:\n",
    "        text = sql_match.group(1)\n",
    "\n",
    "    # Step 4: Remove backticks around identifiers\n",
    "    text = re.sub(r'`([^`]*)`', r'\\1', text)\n",
    "\n",
    "    # Step 5: Normalize whitespace\n",
    "    # Replace multiple spaces with single space\n",
    "    text = re.sub(r'\\s+', ' ', text)\n",
    "\n",
    "    # Step 6: Preserve newlines for main SQL keywords to maintain readability\n",
    "    keywords = ['SELECT', 'FROM', 'WHERE', 'GROUP BY', 'HAVING', 'ORDER BY',\n",
    "               'LIMIT', 'JOIN', 'LEFT JOIN', 'RIGHT JOIN', 'INNER JOIN',\n",
    "               'OUTER JOIN', 'UNION', 'VALUES', 'INSERT', 'UPDATE', 'DELETE']\n",
    "\n",
    "    # Case-insensitive replacement for keywords\n",
    "    pattern = '|'.join(r'\\b{}\\b'.format(k) for k in keywords)\n",
    "    text = re.sub(f'({pattern})', r'\\n\\1', text, flags=re.IGNORECASE)\n",
    "\n",
    "    # Step 7: Final cleanup\n",
    "    # Remove leading/trailing whitespace and extra newlines\n",
    "    text = text.strip()\n",
    "    text = re.sub(r'\\n\\s*\\n', '\\n', text)\n",
    "\n",
    "    return text\n"
   ]
  },
  {
   "cell_type": "code",
   "execution_count": 25,
   "metadata": {},
   "outputs": [],
   "source": [
    "from langchain.chains import create_sql_query_chain\n",
    "from langchain_community.tools.sql_database.tool import QuerySQLDataBaseTool\n",
    "from operator import itemgetter\n",
    "import re\n",
    "from langchain_core.output_parsers import StrOutputParser\n",
    "from langchain_core.prompts import PromptTemplate\n",
    "from langchain_core.runnables import RunnablePassthrough, RunnableLambda\n",
    "from langchain_core.tools import tool\n",
    "from langchain.tools import tool\n",
    "from pydantic import BaseModel\n",
    "\n",
    "class SQLToolSchema(BaseModel):\n",
    "    question: str\n",
    "\n",
    "@tool(args_schema=SQLToolSchema)\n",
    "def nl2sql_tool(question):\n",
    "    \"\"\"Tool to Generate and Execute SQL Query to answer User Questions related to chinook DB\"\"\"\n",
    "    print(\"INSIDE NL2SQL TOOL\")\n",
    "    execute_query = QuerySQLDataBaseTool(db=db)\n",
    "    write_query = create_sql_query_chain(llm, db)\n",
    "\n",
    "    chain = (\n",
    "        RunnablePassthrough.assign(query=write_query | RunnableLambda(clean_sql_query)).assign(\n",
    "            result=itemgetter(\"query\") | execute_query\n",
    "        )\n",
    "    )\n",
    "\n",
    "    response = chain.invoke({\"question\": question})\n",
    "    return response['result']\n"
   ]
  },
  {
   "cell_type": "code",
   "execution_count": 26,
   "metadata": {},
   "outputs": [
    {
     "name": "stdout",
     "output_type": "stream",
     "text": [
      "INSIDE NL2SQL TOOL\n",
      "Answer: [(8,)]\n"
     ]
    }
   ],
   "source": [
    "question = \"How many employees are there?\"\n",
    "result = nl2sql_tool.invoke({\"question\": question})\n",
    "print(f\"Answer: {result}\")"
   ]
  },
  {
   "cell_type": "code",
   "execution_count": 37,
   "metadata": {},
   "outputs": [],
   "source": [
    "websearch_agent = create_agent(llm, [web_search_tool])\n",
    "\n",
    "def web_research_node(state: MessagesState) -> Command[Literal[\"supervisor\"]]:\n",
    "    print(\"INSIDE WEB RESEARCH NODE\")\n",
    "    print(state)\n",
    "    print(\"*\"*10)\n",
    "    result = websearch_agent.invoke(state)\n",
    "    print(result)\n",
    "    print(\"*\"*20)\n",
    "    return Command(\n",
    "        update={\n",
    "            \"messages\": [\n",
    "                HumanMessage(content=result[\"messages\"][-1].content, name=\"web_researcher\")\n",
    "            ]\n",
    "        },\n",
    "        goto=\"supervisor\",\n",
    "    )\n"
   ]
  },
  {
   "cell_type": "code",
   "execution_count": 38,
   "metadata": {},
   "outputs": [],
   "source": [
    "nl2sql_agent = create_agent(llm, [nl2sql_tool])\n",
    "\n",
    "def nl2sql_node(state: MessagesState) -> Command[Literal[\"supervisor\"]]:\n",
    "    result = nl2sql_agent.invoke(state)\n",
    "    return Command(\n",
    "        update={\n",
    "            \"messages\": [\n",
    "                HumanMessage(content=result[\"messages\"][-1].content, name=\"nl2sql\")\n",
    "            ]\n",
    "        },\n",
    "        goto=\"supervisor\",\n",
    "    )\n"
   ]
  },
  {
   "cell_type": "code",
   "execution_count": 39,
   "metadata": {},
   "outputs": [],
   "source": [
    "builder = StateGraph(MessagesState)\n",
    "builder.add_edge(START, \"supervisor\")\n",
    "builder.add_node(\"supervisor\", supervisor_node)\n",
    "builder.add_node(\"web_researcher\", web_research_node)\n",
    "builder.add_node(\"nl2sql\", nl2sql_node)\n",
    "graph = builder.compile()\n"
   ]
  },
  {
   "cell_type": "code",
   "execution_count": 40,
   "metadata": {},
   "outputs": [
    {
     "data": {
      "image/png": "[encoded data removed]",
      "text/plain": [
       "<IPython.core.display.Image object>"
      ]
     },
     "metadata": {},
     "output_type": "display_data"
    }
   ],
   "source": [
    "from IPython.display import display, Image\n",
    "\n",
    "display(Image(graph.get_graph().draw_mermaid_png()))"
   ]
  },
  {
   "cell_type": "code",
   "execution_count": 41,
   "metadata": {},
   "outputs": [
    {
     "name": "stdout",
     "output_type": "stream",
     "text": [
      "Next Worker: web_researcher\n",
      "((), {'supervisor': None})\n",
      "----\n",
      "INSIDE WEB RESEARCH NODE\n",
      "{'messages': [HumanMessage(content='Find the founder of FutureSmart AI and then do a web research on him', additional_kwargs={}, response_metadata={}, id='e1e354bd-ae75-4f45-af60-4110f9c378f0')]}\n",
      "**********\n",
      "(('web_researcher:a611dfb0-3793-debc-8c75-ba187c3105e1',), {'agent': {'messages': [AIMessage(content='', additional_kwargs={'tool_calls': [{'id': 'call_pRneBJKCAuaMFzFOsWTg8eXY', 'function': {'arguments': '{\"query\":\"founder of FutureSmart AI\"}', 'name': 'tavily_search_results_json'}, 'type': 'function'}], 'refusal': None}, response_metadata={'token_usage': {'completion_tokens': 24, 'prompt_tokens': 94, 'total_tokens': 118, 'completion_tokens_details': {'accepted_prediction_tokens': 0, 'audio_tokens': 0, 'reasoning_tokens': 0, 'rejected_prediction_tokens': 0}, 'prompt_tokens_details': {'audio_tokens': 0, 'cached_tokens': 0}}, 'model_name': 'gpt-4o-mini-2024-07-18', 'system_fingerprint': 'fp_bd83329f63', 'finish_reason': 'tool_calls', 'logprobs': None}, id='run-0a8732ac-a036-4398-aa14-14016b2a413b-0', tool_calls=[{'name': 'tavily_search_results_json', 'args': {'query': 'founder of FutureSmart AI'}, 'id': 'call_pRneBJKCAuaMFzFOsWTg8eXY', 'type': 'tool_call'}], usage_metadata={'input_tokens': 94, 'output_tokens': 24, 'total_tokens': 118, 'input_token_details': {'audio': 0, 'cache_read': 0}, 'output_token_details': {'audio': 0, 'reasoning': 0}})]}})\n",
      "----\n",
      "(('web_researcher:a611dfb0-3793-debc-8c75-ba187c3105e1',), {'tools': {'messages': [ToolMessage(content='[{\"url\": \"https://in.linkedin.com/in/pradipnichite\", \"content\": \"Pradip Nichite\\\\nFounder at FutureSmart AI | Generative AI Solutions | AI Agents & Automation | RAG | NL2SQL\\\\nMumbai, India\\\\n13594 connections, 27914 followers\\\\n\\\\n\\\\nAbout:\\\\nI am the Founder & CEO of FutureSmart AI, where we develop Custom AI solutions that solve real business challenges, focusing on Generative AI, RAG (Retrieval-Augmented Generation), NL2SQL, and Large Language Models (LLMs).\\\\n\\\\n🚀 From Freelancing to Building FutureSmart AI\\\\n\\\\nIn 2022, I quit my job and went all-in on freelancing, building custom NLP & AI solutions for global clients. What started as a self-employed journey turned into $300K+ earnings on Upwork with a 100% Job Success rate. I also earned Upwork Expert-Vetted status, placing me among the top 1% of freelancers on the platform.\\\\n\\\\nInspired by my freelancing success, I founded FutureSmart AI in September 2022. We provide custom AI solutions for clients using the latest AI models and techniques in Generative AI.\\\\n\\\\n📚 I started my career in 2013 as a Software Developer, focusing on backend and API development. My passion for Data Science led me to pursue an M.Tech in IT from IIIT Bangalore (2016 - 2018), specializing in Data Science.\\\\n\\\\n💼 After graduation, I worked as a Data Scientist at MiQ (2018 - 2020) and later as a Lead Data Scientist at Oracle (2020 - 2022).\\\\n\\\\n🔹 Tech Stack & Expertise:\\\\n\\\\n- Generative AI & NLP: LLMs, RAG, AI Agents, Chatbots\\\\n- Libraries & Frameworks: Transformers, LangChain, LangGraph\\\\n- Backend & APIs: FastAPI, Python, SQL\\\\n- Vector Search & Databases: Pinecone, Qdrant, MySQL\\\\n- Cloud & Deployment: AWS, GCP\\\\n- AI Automation, Document Parsing\\\\n\\\\n🚀 I focus on building AI systems that go beyond theoretical models to deliver tangible business outcomes. FutureSmart AI is committed to helping companies integrate AI effectively and stay competitive in this rapidly evolving field.\\\\n\\\\n🎥 In addition, I run AI Demos, a platform designed to showcase and educate people on the latest AI tools through hands-on video demonstrations.\\\\n\\\\n📩 Let’s connect! If you’re exploring AI-powered solutions, looking to optimize workflows with NLP, or interested in discussing the latest AI advancements, feel free to reach out.\\\\n\\\\nUpwork Profile: https://www.upwork.com/freelancers/pradipnichite\\\\n\\\\n\\\\nExperience:\\\\nExpert-Vetted at Upwork (https://www.linkedin.com/company/upwork)\\\\nJun 2023 - Present\\\\n\\\\n\\\\nEducation:\\\\nInternational Institute of Information Technology Bangalore\\\\nMaster of Technology - MTech, Data Science\\\\nJan 2016 - Dec 2018\\\\nGrade: 9.2/10\\\\nActivities and societies: N/A\"}, {\"url\": \"https://blog.futuresmart.ai/multi-agent-system-with-langgraph\", \"content\": \"((\\'rag:7c5458df-0abd-944a-27f7-b0bad49ccf3d\\',), {\\'agent\\': {\\'messages\\': [AIMessage(content=\\'\\', additional_kwargs={\\'tool_calls\\': [{\\'id\\': \\'call_fK9lMHGrtubenQ697xpd2ZZ2\\', \\'function\\': {\\'arguments\\': \\'{\\\\\"question\\\\\":\\\\\"Who is the founder of FutureSmart AI?\\\\\"}\\', \\'name\\': \\'retriever_tool\\'}, \\'type\\': \\'function\\'}], \\'refusal\\': None}, response_metadata={\\'token_usage\\': {\\'completion_tokens\\': 25, \\'prompt_tokens\\': 70, \\'total_tokens\\': 95, \\'completion_tokens_details\\': {\\'accepted_prediction_tokens\\': 0, \\'audio_tokens\\': 0, \\'reasoning_tokens\\': 0, \\'rejected_prediction_tokens\\': 0}, \\'prompt_tokens_details\\': {\\'audio_tokens\\': 0, \\'cached_tokens\\': 0}}, \\'model_name\\': \\'gpt-4o-2024-08-06\\', \\'system_fingerprint\\': \\'fp_d28bcae782\\', \\'finish_reason\\': \\'tool_calls\\', \\'logprobs\\': None}, id=\\'run-e538251e-24e9-45ac-a5b7-b4ce111615ad-0\\', tool_calls=[{\\'name\\': \\'retriever_tool\\', \\'args\\': {\\'question\\': \\'Who is the founder of FutureSmart AI?\\'}, \\'id\\': \\'call_fK9lMHGrtubenQ697xpd2ZZ2\\', \\'type\\': \\'tool_call\\'}], usage_metadata={\\'input_tokens\\': 70, \\'output_tokens\\': 25, \\'total_tokens\\': 95, \\'input_token_details\\': {\\'audio\\': 0, \\'cache_read\\': 0}, \\'output_token_details\\': {\\'audio\\': 0, \\'reasoning\\': 0}})]}}) ((\\'web_researcher:509bb5e2-bf9e-2c1d-5c65-978a73d5e94c\\',), {\\'agent\\': {\\'messages\\': [AIMessage(content=\\'\\', additional_kwargs={\\'tool_calls\\': [{\\'id\\': \\'call_L5d4KhCSPsT5HmHTpHmnyryx\\', \\'function\\': {\\'arguments\\': \\'{\\\\\"query\\\\\":\\\\\"Pradip Nichite\\\\\"}\\', \\'name\\': \\'tavily_search_results_json\\'}, \\'type\\': \\'function\\'}], \\'refusal\\': None}, response_metadata={\\'token_usage\\': {\\'completion_tokens\\': 23, \\'prompt_tokens\\': 161, \\'total_tokens\\': 184, \\'completion_tokens_details\\': {\\'accepted_prediction_tokens\\': 0, \\'audio_tokens\\': 0, \\'reasoning_tokens\\': 0, \\'rejected_prediction_tokens\\': 0}, \\'prompt_tokens_details\\': {\\'audio_tokens\\': 0, \\'cached_tokens\\': 0}}, \\'model_name\\': \\'gpt-4o-2024-08-06\\', \\'system_fingerprint\\': \\'fp_e161c81bbd\\', \\'finish_reason\\': \\'tool_calls\\', \\'logprobs\\': None}, id=\\'run-35518542-a3b6-424b-b4c7-f8fbb56cffd6-0\\', tool_calls=[{\\'name\\': \\'tavily_search_results_json\\', \\'args\\': {\\'query\\': \\'Pradip Nichite\\'}, \\'id\\': \\'call_L5d4KhCSPsT5HmHTpHmnyryx\\', \\'type\\': \\'tool_call\\'}], usage_metadata={\\'input_tokens\\': 161, \\'output_tokens\\': 23, \\'total_tokens\\': 184, \\'input_token_details\\': {\\'audio\\': 0, \\'cache_read\\': 0}, \\'output_token_details\\': {\\'audio\\': 0, \\'reasoning\\': 0}})]}})\"}]', name='tavily_search_results_json', tool_call_id='call_pRneBJKCAuaMFzFOsWTg8eXY', artifact={'query': 'founder of FutureSmart AI', 'follow_up_questions': None, 'answer': None, 'images': [], 'results': [{'title': 'Pradip Nichite - Upwork | LinkedIn', 'url': 'https://in.linkedin.com/in/pradipnichite', 'content': 'Pradip Nichite\\nFounder at FutureSmart AI | Generative AI Solutions | AI Agents & Automation | RAG | NL2SQL\\nMumbai, India\\n13594 connections, 27914 followers\\n\\n\\nAbout:\\nI am the Founder & CEO of FutureSmart AI, where we develop Custom AI solutions that solve real business challenges, focusing on Generative AI, RAG (Retrieval-Augmented Generation), NL2SQL, and Large Language Models (LLMs).\\n\\n🚀 From Freelancing to Building FutureSmart AI\\n\\nIn 2022, I quit my job and went all-in on freelancing, building custom NLP & AI solutions for global clients. What started as a self-employed journey turned into $300K+ earnings on Upwork with a 100% Job Success rate. I also earned Upwork Expert-Vetted status, placing me among the top 1% of freelancers on the platform.\\n\\nInspired by my freelancing success, I founded FutureSmart AI in September 2022. We provide custom AI solutions for clients using the latest AI models and techniques in Generative AI.\\n\\n📚 I started my career in 2013 as a Software Developer, focusing on backend and API development. My passion for Data Science led me to pursue an M.Tech in IT from IIIT Bangalore (2016 - 2018), specializing in Data Science.\\n\\n💼 After graduation, I worked as a Data Scientist at MiQ (2018 - 2020) and later as a Lead Data Scientist at Oracle (2020 - 2022).\\n\\n🔹 Tech Stack & Expertise:\\n\\n- Generative AI & NLP: LLMs, RAG, AI Agents, Chatbots\\n- Libraries & Frameworks: Transformers, LangChain, LangGraph\\n- Backend & APIs: FastAPI, Python, SQL\\n- Vector Search & Databases: Pinecone, Qdrant, MySQL\\n- Cloud & Deployment: AWS, GCP\\n- AI Automation, Document Parsing\\n\\n🚀 I focus on building AI systems that go beyond theoretical models to deliver tangible business outcomes. FutureSmart AI is committed to helping companies integrate AI effectively and stay competitive in this rapidly evolving field.\\n\\n🎥 In addition, I run AI Demos, a platform designed to showcase and educate people on the latest AI tools through hands-on video demonstrations.\\n\\n📩 Let’s connect! If you’re exploring AI-powered solutions, looking to optimize workflows with NLP, or interested in discussing the latest AI advancements, feel free to reach out.\\n\\nUpwork Profile: https://www.upwork.com/freelancers/pradipnichite\\n\\n\\nExperience:\\nExpert-Vetted at Upwork (https://www.linkedin.com/company/upwork)\\nJun 2023 - Present\\n\\n\\nEducation:\\nInternational Institute of Information Technology Bangalore\\nMaster of Technology - MTech, Data Science\\nJan 2016 - Dec 2018\\nGrade: 9.2/10\\nActivities and societies: N/A', 'score': 0.92142147, 'raw_content': None}, {'title': 'Multi-Agent System Tutorial with LangGraph - blog.futuresmart.ai', 'url': 'https://blog.futuresmart.ai/multi-agent-system-with-langgraph', 'content': '((\\'rag:7c5458df-0abd-944a-27f7-b0bad49ccf3d\\',), {\\'agent\\': {\\'messages\\': [AIMessage(content=\\'\\', additional_kwargs={\\'tool_calls\\': [{\\'id\\': \\'call_fK9lMHGrtubenQ697xpd2ZZ2\\', \\'function\\': {\\'arguments\\': \\'{\"question\":\"Who is the founder of FutureSmart AI?\"}\\', \\'name\\': \\'retriever_tool\\'}, \\'type\\': \\'function\\'}], \\'refusal\\': None}, response_metadata={\\'token_usage\\': {\\'completion_tokens\\': 25, \\'prompt_tokens\\': 70, \\'total_tokens\\': 95, \\'completion_tokens_details\\': {\\'accepted_prediction_tokens\\': 0, \\'audio_tokens\\': 0, \\'reasoning_tokens\\': 0, \\'rejected_prediction_tokens\\': 0}, \\'prompt_tokens_details\\': {\\'audio_tokens\\': 0, \\'cached_tokens\\': 0}}, \\'model_name\\': \\'gpt-4o-2024-08-06\\', \\'system_fingerprint\\': \\'fp_d28bcae782\\', \\'finish_reason\\': \\'tool_calls\\', \\'logprobs\\': None}, id=\\'run-e538251e-24e9-45ac-a5b7-b4ce111615ad-0\\', tool_calls=[{\\'name\\': \\'retriever_tool\\', \\'args\\': {\\'question\\': \\'Who is the founder of FutureSmart AI?\\'}, \\'id\\': \\'call_fK9lMHGrtubenQ697xpd2ZZ2\\', \\'type\\': \\'tool_call\\'}], usage_metadata={\\'input_tokens\\': 70, \\'output_tokens\\': 25, \\'total_tokens\\': 95, \\'input_token_details\\': {\\'audio\\': 0, \\'cache_read\\': 0}, \\'output_token_details\\': {\\'audio\\': 0, \\'reasoning\\': 0}})]}}) ((\\'web_researcher:509bb5e2-bf9e-2c1d-5c65-978a73d5e94c\\',), {\\'agent\\': {\\'messages\\': [AIMessage(content=\\'\\', additional_kwargs={\\'tool_calls\\': [{\\'id\\': \\'call_L5d4KhCSPsT5HmHTpHmnyryx\\', \\'function\\': {\\'arguments\\': \\'{\"query\":\"Pradip Nichite\"}\\', \\'name\\': \\'tavily_search_results_json\\'}, \\'type\\': \\'function\\'}], \\'refusal\\': None}, response_metadata={\\'token_usage\\': {\\'completion_tokens\\': 23, \\'prompt_tokens\\': 161, \\'total_tokens\\': 184, \\'completion_tokens_details\\': {\\'accepted_prediction_tokens\\': 0, \\'audio_tokens\\': 0, \\'reasoning_tokens\\': 0, \\'rejected_prediction_tokens\\': 0}, \\'prompt_tokens_details\\': {\\'audio_tokens\\': 0, \\'cached_tokens\\': 0}}, \\'model_name\\': \\'gpt-4o-2024-08-06\\', \\'system_fingerprint\\': \\'fp_e161c81bbd\\', \\'finish_reason\\': \\'tool_calls\\', \\'logprobs\\': None}, id=\\'run-35518542-a3b6-424b-b4c7-f8fbb56cffd6-0\\', tool_calls=[{\\'name\\': \\'tavily_search_results_json\\', \\'args\\': {\\'query\\': \\'Pradip Nichite\\'}, \\'id\\': \\'call_L5d4KhCSPsT5HmHTpHmnyryx\\', \\'type\\': \\'tool_call\\'}], usage_metadata={\\'input_tokens\\': 161, \\'output_tokens\\': 23, \\'total_tokens\\': 184, \\'input_token_details\\': {\\'audio\\': 0, \\'cache_read\\': 0}, \\'output_token_details\\': {\\'audio\\': 0, \\'reasoning\\': 0}})]}})', 'score': 0.6786044, 'raw_content': None}], 'response_time': 1.5})]}})\n",
      "----\n",
      "(('web_researcher:a611dfb0-3793-debc-8c75-ba187c3105e1',), {'agent': {'messages': [AIMessage(content='', additional_kwargs={'tool_calls': [{'id': 'call_GeWtBROZAOSvbeDNg6wfgQof', 'function': {'arguments': '{\"query\":\"Pradip Nichite\"}', 'name': 'tavily_search_results_json'}, 'type': 'function'}], 'refusal': None}, response_metadata={'token_usage': {'completion_tokens': 23, 'prompt_tokens': 1578, 'total_tokens': 1601, 'completion_tokens_details': {'accepted_prediction_tokens': 0, 'audio_tokens': 0, 'reasoning_tokens': 0, 'rejected_prediction_tokens': 0}, 'prompt_tokens_details': {'audio_tokens': 0, 'cached_tokens': 1408}}, 'model_name': 'gpt-4o-mini-2024-07-18', 'system_fingerprint': 'fp_bd83329f63', 'finish_reason': 'tool_calls', 'logprobs': None}, id='run-ed7d9197-a038-4707-a1cb-9286e678e5d3-0', tool_calls=[{'name': 'tavily_search_results_json', 'args': {'query': 'Pradip Nichite'}, 'id': 'call_GeWtBROZAOSvbeDNg6wfgQof', 'type': 'tool_call'}], usage_metadata={'input_tokens': 1578, 'output_tokens': 23, 'total_tokens': 1601, 'input_token_details': {'audio': 0, 'cache_read': 1408}, 'output_token_details': {'audio': 0, 'reasoning': 0}})]}})\n",
      "----\n",
      "(('web_researcher:a611dfb0-3793-debc-8c75-ba187c3105e1',), {'tools': {'messages': [ToolMessage(content='[{\"url\": \"https://in.linkedin.com/in/pradipnichite\", \"content\": \"Pradip Nichite\\\\nFounder at FutureSmart AI | Generative AI Solutions | AI Agents & Automation | RAG | NL2SQL\\\\nMumbai, India\\\\n13594 connections, 27914 followers\\\\n\\\\n\\\\nAbout:\\\\nI am the Founder & CEO of FutureSmart AI, where we develop Custom AI solutions that solve real business challenges, focusing on Generative AI, RAG (Retrieval-Augmented Generation), NL2SQL, and Large Language Models (LLMs).\\\\n\\\\n🚀 From Freelancing to Building FutureSmart AI\\\\n\\\\nIn 2022, I quit my job and went all-in on freelancing, building custom NLP & AI solutions for global clients. What started as a self-employed journey turned into $300K+ earnings on Upwork with a 100% Job Success rate. I also earned Upwork Expert-Vetted status, placing me among the top 1% of freelancers on the platform.\\\\n\\\\nInspired by my freelancing success, I founded FutureSmart AI in September 2022. We provide custom AI solutions for clients using the latest AI models and techniques in Generative AI.\\\\n\\\\n📚 I started my career in 2013 as a Software Developer, focusing on backend and API development. My passion for Data Science led me to pursue an M.Tech in IT from IIIT Bangalore (2016 - 2018), specializing in Data Science.\\\\n\\\\n💼 After graduation, I worked as a Data Scientist at MiQ (2018 - 2020) and later as a Lead Data Scientist at Oracle (2020 - 2022).\\\\n\\\\n🔹 Tech Stack & Expertise:\\\\n\\\\n- Generative AI & NLP: LLMs, RAG, AI Agents, Chatbots\\\\n- Libraries & Frameworks: Transformers, LangChain, LangGraph\\\\n- Backend & APIs: FastAPI, Python, SQL\\\\n- Vector Search & Databases: Pinecone, Qdrant, MySQL\\\\n- Cloud & Deployment: AWS, GCP\\\\n- AI Automation, Document Parsing\\\\n\\\\n🚀 I focus on building AI systems that go beyond theoretical models to deliver tangible business outcomes. FutureSmart AI is committed to helping companies integrate AI effectively and stay competitive in this rapidly evolving field.\\\\n\\\\n🎥 In addition, I run AI Demos, a platform designed to showcase and educate people on the latest AI tools through hands-on video demonstrations.\\\\n\\\\n📩 Let’s connect! If you’re exploring AI-powered solutions, looking to optimize workflows with NLP, or interested in discussing the latest AI advancements, feel free to reach out.\\\\n\\\\nUpwork Profile: https://www.upwork.com/freelancers/pradipnichite\\\\n\\\\n\\\\nExperience:\\\\nExpert-Vetted at Upwork (https://www.linkedin.com/company/upwork)\\\\nJun 2023 - Present\\\\n\\\\n\\\\nEducation:\\\\nInternational Institute of Information Technology Bangalore\\\\nMaster of Technology - MTech, Data Science\\\\nJan 2016 - Dec 2018\\\\nGrade: 9.2/10\\\\nActivities and societies: N/A\"}, {\"url\": \"https://www.youtube.com/channel/UCwpCmuWq_NPVLNyr8z1IGGQ\", \"content\": \"🎥🌟 Welcome to my YouTube Channel! I\\'m Pradip Nichite, a Top Rated Plus freelance Data Scientist on Upwork 💼, a successful digital nomad 🌍, and an entrepreneur. My journey in\"}]', name='tavily_search_results_json', id='77144263-f38e-4941-b385-fd2ef81c7c4e', tool_call_id='call_GeWtBROZAOSvbeDNg6wfgQof', artifact={'query': 'Pradip Nichite', 'follow_up_questions': None, 'answer': None, 'images': [], 'results': [{'title': 'Pradip Nichite - Upwork | LinkedIn', 'url': 'https://in.linkedin.com/in/pradipnichite', 'content': 'Pradip Nichite\\nFounder at FutureSmart AI | Generative AI Solutions | AI Agents & Automation | RAG | NL2SQL\\nMumbai, India\\n13594 connections, 27914 followers\\n\\n\\nAbout:\\nI am the Founder & CEO of FutureSmart AI, where we develop Custom AI solutions that solve real business challenges, focusing on Generative AI, RAG (Retrieval-Augmented Generation), NL2SQL, and Large Language Models (LLMs).\\n\\n🚀 From Freelancing to Building FutureSmart AI\\n\\nIn 2022, I quit my job and went all-in on freelancing, building custom NLP & AI solutions for global clients. What started as a self-employed journey turned into $300K+ earnings on Upwork with a 100% Job Success rate. I also earned Upwork Expert-Vetted status, placing me among the top 1% of freelancers on the platform.\\n\\nInspired by my freelancing success, I founded FutureSmart AI in September 2022. We provide custom AI solutions for clients using the latest AI models and techniques in Generative AI.\\n\\n📚 I started my career in 2013 as a Software Developer, focusing on backend and API development. My passion for Data Science led me to pursue an M.Tech in IT from IIIT Bangalore (2016 - 2018), specializing in Data Science.\\n\\n💼 After graduation, I worked as a Data Scientist at MiQ (2018 - 2020) and later as a Lead Data Scientist at Oracle (2020 - 2022).\\n\\n🔹 Tech Stack & Expertise:\\n\\n- Generative AI & NLP: LLMs, RAG, AI Agents, Chatbots\\n- Libraries & Frameworks: Transformers, LangChain, LangGraph\\n- Backend & APIs: FastAPI, Python, SQL\\n- Vector Search & Databases: Pinecone, Qdrant, MySQL\\n- Cloud & Deployment: AWS, GCP\\n- AI Automation, Document Parsing\\n\\n🚀 I focus on building AI systems that go beyond theoretical models to deliver tangible business outcomes. FutureSmart AI is committed to helping companies integrate AI effectively and stay competitive in this rapidly evolving field.\\n\\n🎥 In addition, I run AI Demos, a platform designed to showcase and educate people on the latest AI tools through hands-on video demonstrations.\\n\\n📩 Let’s connect! If you’re exploring AI-powered solutions, looking to optimize workflows with NLP, or interested in discussing the latest AI advancements, feel free to reach out.\\n\\nUpwork Profile: https://www.upwork.com/freelancers/pradipnichite\\n\\n\\nExperience:\\nExpert-Vetted at Upwork (https://www.linkedin.com/company/upwork)\\nJun 2023 - Present\\n\\n\\nEducation:\\nInternational Institute of Information Technology Bangalore\\nMaster of Technology - MTech, Data Science\\nJan 2016 - Dec 2018\\nGrade: 9.2/10\\nActivities and societies: N/A', 'score': 0.843393, 'raw_content': None}, {'title': 'Pradip Nichite - YouTube', 'url': 'https://www.youtube.com/channel/UCwpCmuWq_NPVLNyr8z1IGGQ', 'content': \"🎥🌟 Welcome to my YouTube Channel! I'm Pradip Nichite, a Top Rated Plus freelance Data Scientist on Upwork 💼, a successful digital nomad 🌍, and an entrepreneur. My journey in\", 'score': 0.76951396, 'raw_content': None}], 'response_time': 1.67})]}})\n",
      "----\n",
      "{'messages': [HumanMessage(content='Find the founder of FutureSmart AI and then do a web research on him', additional_kwargs={}, response_metadata={}, id='e1e354bd-ae75-4f45-af60-4110f9c378f0'), AIMessage(content='', additional_kwargs={'tool_calls': [{'id': 'call_pRneBJKCAuaMFzFOsWTg8eXY', 'function': {'arguments': '{\"query\":\"founder of FutureSmart AI\"}', 'name': 'tavily_search_results_json'}, 'type': 'function'}], 'refusal': None}, response_metadata={'token_usage': {'completion_tokens': 24, 'prompt_tokens': 94, 'total_tokens': 118, 'completion_tokens_details': {'accepted_prediction_tokens': 0, 'audio_tokens': 0, 'reasoning_tokens': 0, 'rejected_prediction_tokens': 0}, 'prompt_tokens_details': {'audio_tokens': 0, 'cached_tokens': 0}}, 'model_name': 'gpt-4o-mini-2024-07-18', 'system_fingerprint': 'fp_bd83329f63', 'finish_reason': 'tool_calls', 'logprobs': None}, id='run-0a8732ac-a036-4398-aa14-14016b2a413b-0', tool_calls=[{'name': 'tavily_search_results_json', 'args': {'query': 'founder of FutureSmart AI'}, 'id': 'call_pRneBJKCAuaMFzFOsWTg8eXY', 'type': 'tool_call'}], usage_metadata={'input_tokens': 94, 'output_tokens': 24, 'total_tokens': 118, 'input_token_details': {'audio': 0, 'cache_read': 0}, 'output_token_details': {'audio': 0, 'reasoning': 0}}), ToolMessage(content='[{\"url\": \"https://in.linkedin.com/in/pradipnichite\", \"content\": \"Pradip Nichite\\\\nFounder at FutureSmart AI | Generative AI Solutions | AI Agents & Automation | RAG | NL2SQL\\\\nMumbai, India\\\\n13594 connections, 27914 followers\\\\n\\\\n\\\\nAbout:\\\\nI am the Founder & CEO of FutureSmart AI, where we develop Custom AI solutions that solve real business challenges, focusing on Generative AI, RAG (Retrieval-Augmented Generation), NL2SQL, and Large Language Models (LLMs).\\\\n\\\\n🚀 From Freelancing to Building FutureSmart AI\\\\n\\\\nIn 2022, I quit my job and went all-in on freelancing, building custom NLP & AI solutions for global clients. What started as a self-employed journey turned into $300K+ earnings on Upwork with a 100% Job Success rate. I also earned Upwork Expert-Vetted status, placing me among the top 1% of freelancers on the platform.\\\\n\\\\nInspired by my freelancing success, I founded FutureSmart AI in September 2022. We provide custom AI solutions for clients using the latest AI models and techniques in Generative AI.\\\\n\\\\n📚 I started my career in 2013 as a Software Developer, focusing on backend and API development. My passion for Data Science led me to pursue an M.Tech in IT from IIIT Bangalore (2016 - 2018), specializing in Data Science.\\\\n\\\\n💼 After graduation, I worked as a Data Scientist at MiQ (2018 - 2020) and later as a Lead Data Scientist at Oracle (2020 - 2022).\\\\n\\\\n🔹 Tech Stack & Expertise:\\\\n\\\\n- Generative AI & NLP: LLMs, RAG, AI Agents, Chatbots\\\\n- Libraries & Frameworks: Transformers, LangChain, LangGraph\\\\n- Backend & APIs: FastAPI, Python, SQL\\\\n- Vector Search & Databases: Pinecone, Qdrant, MySQL\\\\n- Cloud & Deployment: AWS, GCP\\\\n- AI Automation, Document Parsing\\\\n\\\\n🚀 I focus on building AI systems that go beyond theoretical models to deliver tangible business outcomes. FutureSmart AI is committed to helping companies integrate AI effectively and stay competitive in this rapidly evolving field.\\\\n\\\\n🎥 In addition, I run AI Demos, a platform designed to showcase and educate people on the latest AI tools through hands-on video demonstrations.\\\\n\\\\n📩 Let’s connect! If you’re exploring AI-powered solutions, looking to optimize workflows with NLP, or interested in discussing the latest AI advancements, feel free to reach out.\\\\n\\\\nUpwork Profile: https://www.upwork.com/freelancers/pradipnichite\\\\n\\\\n\\\\nExperience:\\\\nExpert-Vetted at Upwork (https://www.linkedin.com/company/upwork)\\\\nJun 2023 - Present\\\\n\\\\n\\\\nEducation:\\\\nInternational Institute of Information Technology Bangalore\\\\nMaster of Technology - MTech, Data Science\\\\nJan 2016 - Dec 2018\\\\nGrade: 9.2/10\\\\nActivities and societies: N/A\"}, {\"url\": \"https://blog.futuresmart.ai/multi-agent-system-with-langgraph\", \"content\": \"((\\'rag:7c5458df-0abd-944a-27f7-b0bad49ccf3d\\',), {\\'agent\\': {\\'messages\\': [AIMessage(content=\\'\\', additional_kwargs={\\'tool_calls\\': [{\\'id\\': \\'call_fK9lMHGrtubenQ697xpd2ZZ2\\', \\'function\\': {\\'arguments\\': \\'{\\\\\"question\\\\\":\\\\\"Who is the founder of FutureSmart AI?\\\\\"}\\', \\'name\\': \\'retriever_tool\\'}, \\'type\\': \\'function\\'}], \\'refusal\\': None}, response_metadata={\\'token_usage\\': {\\'completion_tokens\\': 25, \\'prompt_tokens\\': 70, \\'total_tokens\\': 95, \\'completion_tokens_details\\': {\\'accepted_prediction_tokens\\': 0, \\'audio_tokens\\': 0, \\'reasoning_tokens\\': 0, \\'rejected_prediction_tokens\\': 0}, \\'prompt_tokens_details\\': {\\'audio_tokens\\': 0, \\'cached_tokens\\': 0}}, \\'model_name\\': \\'gpt-4o-2024-08-06\\', \\'system_fingerprint\\': \\'fp_d28bcae782\\', \\'finish_reason\\': \\'tool_calls\\', \\'logprobs\\': None}, id=\\'run-e538251e-24e9-45ac-a5b7-b4ce111615ad-0\\', tool_calls=[{\\'name\\': \\'retriever_tool\\', \\'args\\': {\\'question\\': \\'Who is the founder of FutureSmart AI?\\'}, \\'id\\': \\'call_fK9lMHGrtubenQ697xpd2ZZ2\\', \\'type\\': \\'tool_call\\'}], usage_metadata={\\'input_tokens\\': 70, \\'output_tokens\\': 25, \\'total_tokens\\': 95, \\'input_token_details\\': {\\'audio\\': 0, \\'cache_read\\': 0}, \\'output_token_details\\': {\\'audio\\': 0, \\'reasoning\\': 0}})]}}) ((\\'web_researcher:509bb5e2-bf9e-2c1d-5c65-978a73d5e94c\\',), {\\'agent\\': {\\'messages\\': [AIMessage(content=\\'\\', additional_kwargs={\\'tool_calls\\': [{\\'id\\': \\'call_L5d4KhCSPsT5HmHTpHmnyryx\\', \\'function\\': {\\'arguments\\': \\'{\\\\\"query\\\\\":\\\\\"Pradip Nichite\\\\\"}\\', \\'name\\': \\'tavily_search_results_json\\'}, \\'type\\': \\'function\\'}], \\'refusal\\': None}, response_metadata={\\'token_usage\\': {\\'completion_tokens\\': 23, \\'prompt_tokens\\': 161, \\'total_tokens\\': 184, \\'completion_tokens_details\\': {\\'accepted_prediction_tokens\\': 0, \\'audio_tokens\\': 0, \\'reasoning_tokens\\': 0, \\'rejected_prediction_tokens\\': 0}, \\'prompt_tokens_details\\': {\\'audio_tokens\\': 0, \\'cached_tokens\\': 0}}, \\'model_name\\': \\'gpt-4o-2024-08-06\\', \\'system_fingerprint\\': \\'fp_e161c81bbd\\', \\'finish_reason\\': \\'tool_calls\\', \\'logprobs\\': None}, id=\\'run-35518542-a3b6-424b-b4c7-f8fbb56cffd6-0\\', tool_calls=[{\\'name\\': \\'tavily_search_results_json\\', \\'args\\': {\\'query\\': \\'Pradip Nichite\\'}, \\'id\\': \\'call_L5d4KhCSPsT5HmHTpHmnyryx\\', \\'type\\': \\'tool_call\\'}], usage_metadata={\\'input_tokens\\': 161, \\'output_tokens\\': 23, \\'total_tokens\\': 184, \\'input_token_details\\': {\\'audio\\': 0, \\'cache_read\\': 0}, \\'output_token_details\\': {\\'audio\\': 0, \\'reasoning\\': 0}})]}})\"}]', name='tavily_search_results_json', id='a3f07ad7-ae42-4088-b26b-af058ca03ecd', tool_call_id='call_pRneBJKCAuaMFzFOsWTg8eXY', artifact={'query': 'founder of FutureSmart AI', 'follow_up_questions': None, 'answer': None, 'images': [], 'results': [{'title': 'Pradip Nichite - Upwork | LinkedIn', 'url': 'https://in.linkedin.com/in/pradipnichite', 'content': 'Pradip Nichite\\nFounder at FutureSmart AI | Generative AI Solutions | AI Agents & Automation | RAG | NL2SQL\\nMumbai, India\\n13594 connections, 27914 followers\\n\\n\\nAbout:\\nI am the Founder & CEO of FutureSmart AI, where we develop Custom AI solutions that solve real business challenges, focusing on Generative AI, RAG (Retrieval-Augmented Generation), NL2SQL, and Large Language Models (LLMs).\\n\\n🚀 From Freelancing to Building FutureSmart AI\\n\\nIn 2022, I quit my job and went all-in on freelancing, building custom NLP & AI solutions for global clients. What started as a self-employed journey turned into $300K+ earnings on Upwork with a 100% Job Success rate. I also earned Upwork Expert-Vetted status, placing me among the top 1% of freelancers on the platform.\\n\\nInspired by my freelancing success, I founded FutureSmart AI in September 2022. We provide custom AI solutions for clients using the latest AI models and techniques in Generative AI.\\n\\n📚 I started my career in 2013 as a Software Developer, focusing on backend and API development. My passion for Data Science led me to pursue an M.Tech in IT from IIIT Bangalore (2016 - 2018), specializing in Data Science.\\n\\n💼 After graduation, I worked as a Data Scientist at MiQ (2018 - 2020) and later as a Lead Data Scientist at Oracle (2020 - 2022).\\n\\n🔹 Tech Stack & Expertise:\\n\\n- Generative AI & NLP: LLMs, RAG, AI Agents, Chatbots\\n- Libraries & Frameworks: Transformers, LangChain, LangGraph\\n- Backend & APIs: FastAPI, Python, SQL\\n- Vector Search & Databases: Pinecone, Qdrant, MySQL\\n- Cloud & Deployment: AWS, GCP\\n- AI Automation, Document Parsing\\n\\n🚀 I focus on building AI systems that go beyond theoretical models to deliver tangible business outcomes. FutureSmart AI is committed to helping companies integrate AI effectively and stay competitive in this rapidly evolving field.\\n\\n🎥 In addition, I run AI Demos, a platform designed to showcase and educate people on the latest AI tools through hands-on video demonstrations.\\n\\n📩 Let’s connect! If you’re exploring AI-powered solutions, looking to optimize workflows with NLP, or interested in discussing the latest AI advancements, feel free to reach out.\\n\\nUpwork Profile: https://www.upwork.com/freelancers/pradipnichite\\n\\n\\nExperience:\\nExpert-Vetted at Upwork (https://www.linkedin.com/company/upwork)\\nJun 2023 - Present\\n\\n\\nEducation:\\nInternational Institute of Information Technology Bangalore\\nMaster of Technology - MTech, Data Science\\nJan 2016 - Dec 2018\\nGrade: 9.2/10\\nActivities and societies: N/A', 'score': 0.92142147, 'raw_content': None}, {'title': 'Multi-Agent System Tutorial with LangGraph - blog.futuresmart.ai', 'url': 'https://blog.futuresmart.ai/multi-agent-system-with-langgraph', 'content': '((\\'rag:7c5458df-0abd-944a-27f7-b0bad49ccf3d\\',), {\\'agent\\': {\\'messages\\': [AIMessage(content=\\'\\', additional_kwargs={\\'tool_calls\\': [{\\'id\\': \\'call_fK9lMHGrtubenQ697xpd2ZZ2\\', \\'function\\': {\\'arguments\\': \\'{\"question\":\"Who is the founder of FutureSmart AI?\"}\\', \\'name\\': \\'retriever_tool\\'}, \\'type\\': \\'function\\'}], \\'refusal\\': None}, response_metadata={\\'token_usage\\': {\\'completion_tokens\\': 25, \\'prompt_tokens\\': 70, \\'total_tokens\\': 95, \\'completion_tokens_details\\': {\\'accepted_prediction_tokens\\': 0, \\'audio_tokens\\': 0, \\'reasoning_tokens\\': 0, \\'rejected_prediction_tokens\\': 0}, \\'prompt_tokens_details\\': {\\'audio_tokens\\': 0, \\'cached_tokens\\': 0}}, \\'model_name\\': \\'gpt-4o-2024-08-06\\', \\'system_fingerprint\\': \\'fp_d28bcae782\\', \\'finish_reason\\': \\'tool_calls\\', \\'logprobs\\': None}, id=\\'run-e538251e-24e9-45ac-a5b7-b4ce111615ad-0\\', tool_calls=[{\\'name\\': \\'retriever_tool\\', \\'args\\': {\\'question\\': \\'Who is the founder of FutureSmart AI?\\'}, \\'id\\': \\'call_fK9lMHGrtubenQ697xpd2ZZ2\\', \\'type\\': \\'tool_call\\'}], usage_metadata={\\'input_tokens\\': 70, \\'output_tokens\\': 25, \\'total_tokens\\': 95, \\'input_token_details\\': {\\'audio\\': 0, \\'cache_read\\': 0}, \\'output_token_details\\': {\\'audio\\': 0, \\'reasoning\\': 0}})]}}) ((\\'web_researcher:509bb5e2-bf9e-2c1d-5c65-978a73d5e94c\\',), {\\'agent\\': {\\'messages\\': [AIMessage(content=\\'\\', additional_kwargs={\\'tool_calls\\': [{\\'id\\': \\'call_L5d4KhCSPsT5HmHTpHmnyryx\\', \\'function\\': {\\'arguments\\': \\'{\"query\":\"Pradip Nichite\"}\\', \\'name\\': \\'tavily_search_results_json\\'}, \\'type\\': \\'function\\'}], \\'refusal\\': None}, response_metadata={\\'token_usage\\': {\\'completion_tokens\\': 23, \\'prompt_tokens\\': 161, \\'total_tokens\\': 184, \\'completion_tokens_details\\': {\\'accepted_prediction_tokens\\': 0, \\'audio_tokens\\': 0, \\'reasoning_tokens\\': 0, \\'rejected_prediction_tokens\\': 0}, \\'prompt_tokens_details\\': {\\'audio_tokens\\': 0, \\'cached_tokens\\': 0}}, \\'model_name\\': \\'gpt-4o-2024-08-06\\', \\'system_fingerprint\\': \\'fp_e161c81bbd\\', \\'finish_reason\\': \\'tool_calls\\', \\'logprobs\\': None}, id=\\'run-35518542-a3b6-424b-b4c7-f8fbb56cffd6-0\\', tool_calls=[{\\'name\\': \\'tavily_search_results_json\\', \\'args\\': {\\'query\\': \\'Pradip Nichite\\'}, \\'id\\': \\'call_L5d4KhCSPsT5HmHTpHmnyryx\\', \\'type\\': \\'tool_call\\'}], usage_metadata={\\'input_tokens\\': 161, \\'output_tokens\\': 23, \\'total_tokens\\': 184, \\'input_token_details\\': {\\'audio\\': 0, \\'cache_read\\': 0}, \\'output_token_details\\': {\\'audio\\': 0, \\'reasoning\\': 0}})]}})', 'score': 0.6786044, 'raw_content': None}], 'response_time': 1.5}), AIMessage(content='', additional_kwargs={'tool_calls': [{'id': 'call_GeWtBROZAOSvbeDNg6wfgQof', 'function': {'arguments': '{\"query\":\"Pradip Nichite\"}', 'name': 'tavily_search_results_json'}, 'type': 'function'}], 'refusal': None}, response_metadata={'token_usage': {'completion_tokens': 23, 'prompt_tokens': 1578, 'total_tokens': 1601, 'completion_tokens_details': {'accepted_prediction_tokens': 0, 'audio_tokens': 0, 'reasoning_tokens': 0, 'rejected_prediction_tokens': 0}, 'prompt_tokens_details': {'audio_tokens': 0, 'cached_tokens': 1408}}, 'model_name': 'gpt-4o-mini-2024-07-18', 'system_fingerprint': 'fp_bd83329f63', 'finish_reason': 'tool_calls', 'logprobs': None}, id='run-ed7d9197-a038-4707-a1cb-9286e678e5d3-0', tool_calls=[{'name': 'tavily_search_results_json', 'args': {'query': 'Pradip Nichite'}, 'id': 'call_GeWtBROZAOSvbeDNg6wfgQof', 'type': 'tool_call'}], usage_metadata={'input_tokens': 1578, 'output_tokens': 23, 'total_tokens': 1601, 'input_token_details': {'audio': 0, 'cache_read': 1408}, 'output_token_details': {'audio': 0, 'reasoning': 0}}), ToolMessage(content='[{\"url\": \"https://in.linkedin.com/in/pradipnichite\", \"content\": \"Pradip Nichite\\\\nFounder at FutureSmart AI | Generative AI Solutions | AI Agents & Automation | RAG | NL2SQL\\\\nMumbai, India\\\\n13594 connections, 27914 followers\\\\n\\\\n\\\\nAbout:\\\\nI am the Founder & CEO of FutureSmart AI, where we develop Custom AI solutions that solve real business challenges, focusing on Generative AI, RAG (Retrieval-Augmented Generation), NL2SQL, and Large Language Models (LLMs).\\\\n\\\\n🚀 From Freelancing to Building FutureSmart AI\\\\n\\\\nIn 2022, I quit my job and went all-in on freelancing, building custom NLP & AI solutions for global clients. What started as a self-employed journey turned into $300K+ earnings on Upwork with a 100% Job Success rate. I also earned Upwork Expert-Vetted status, placing me among the top 1% of freelancers on the platform.\\\\n\\\\nInspired by my freelancing success, I founded FutureSmart AI in September 2022. We provide custom AI solutions for clients using the latest AI models and techniques in Generative AI.\\\\n\\\\n📚 I started my career in 2013 as a Software Developer, focusing on backend and API development. My passion for Data Science led me to pursue an M.Tech in IT from IIIT Bangalore (2016 - 2018), specializing in Data Science.\\\\n\\\\n💼 After graduation, I worked as a Data Scientist at MiQ (2018 - 2020) and later as a Lead Data Scientist at Oracle (2020 - 2022).\\\\n\\\\n🔹 Tech Stack & Expertise:\\\\n\\\\n- Generative AI & NLP: LLMs, RAG, AI Agents, Chatbots\\\\n- Libraries & Frameworks: Transformers, LangChain, LangGraph\\\\n- Backend & APIs: FastAPI, Python, SQL\\\\n- Vector Search & Databases: Pinecone, Qdrant, MySQL\\\\n- Cloud & Deployment: AWS, GCP\\\\n- AI Automation, Document Parsing\\\\n\\\\n🚀 I focus on building AI systems that go beyond theoretical models to deliver tangible business outcomes. FutureSmart AI is committed to helping companies integrate AI effectively and stay competitive in this rapidly evolving field.\\\\n\\\\n🎥 In addition, I run AI Demos, a platform designed to showcase and educate people on the latest AI tools through hands-on video demonstrations.\\\\n\\\\n📩 Let’s connect! If you’re exploring AI-powered solutions, looking to optimize workflows with NLP, or interested in discussing the latest AI advancements, feel free to reach out.\\\\n\\\\nUpwork Profile: https://www.upwork.com/freelancers/pradipnichite\\\\n\\\\n\\\\nExperience:\\\\nExpert-Vetted at Upwork (https://www.linkedin.com/company/upwork)\\\\nJun 2023 - Present\\\\n\\\\n\\\\nEducation:\\\\nInternational Institute of Information Technology Bangalore\\\\nMaster of Technology - MTech, Data Science\\\\nJan 2016 - Dec 2018\\\\nGrade: 9.2/10\\\\nActivities and societies: N/A\"}, {\"url\": \"https://www.youtube.com/channel/UCwpCmuWq_NPVLNyr8z1IGGQ\", \"content\": \"🎥🌟 Welcome to my YouTube Channel! I\\'m Pradip Nichite, a Top Rated Plus freelance Data Scientist on Upwork 💼, a successful digital nomad 🌍, and an entrepreneur. My journey in\"}]', name='tavily_search_results_json', id='77144263-f38e-4941-b385-fd2ef81c7c4e', tool_call_id='call_GeWtBROZAOSvbeDNg6wfgQof', artifact={'query': 'Pradip Nichite', 'follow_up_questions': None, 'answer': None, 'images': [], 'results': [{'title': 'Pradip Nichite - Upwork | LinkedIn', 'url': 'https://in.linkedin.com/in/pradipnichite', 'content': 'Pradip Nichite\\nFounder at FutureSmart AI | Generative AI Solutions | AI Agents & Automation | RAG | NL2SQL\\nMumbai, India\\n13594 connections, 27914 followers\\n\\n\\nAbout:\\nI am the Founder & CEO of FutureSmart AI, where we develop Custom AI solutions that solve real business challenges, focusing on Generative AI, RAG (Retrieval-Augmented Generation), NL2SQL, and Large Language Models (LLMs).\\n\\n🚀 From Freelancing to Building FutureSmart AI\\n\\nIn 2022, I quit my job and went all-in on freelancing, building custom NLP & AI solutions for global clients. What started as a self-employed journey turned into $300K+ earnings on Upwork with a 100% Job Success rate. I also earned Upwork Expert-Vetted status, placing me among the top 1% of freelancers on the platform.\\n\\nInspired by my freelancing success, I founded FutureSmart AI in September 2022. We provide custom AI solutions for clients using the latest AI models and techniques in Generative AI.\\n\\n📚 I started my career in 2013 as a Software Developer, focusing on backend and API development. My passion for Data Science led me to pursue an M.Tech in IT from IIIT Bangalore (2016 - 2018), specializing in Data Science.\\n\\n💼 After graduation, I worked as a Data Scientist at MiQ (2018 - 2020) and later as a Lead Data Scientist at Oracle (2020 - 2022).\\n\\n🔹 Tech Stack & Expertise:\\n\\n- Generative AI & NLP: LLMs, RAG, AI Agents, Chatbots\\n- Libraries & Frameworks: Transformers, LangChain, LangGraph\\n- Backend & APIs: FastAPI, Python, SQL\\n- Vector Search & Databases: Pinecone, Qdrant, MySQL\\n- Cloud & Deployment: AWS, GCP\\n- AI Automation, Document Parsing\\n\\n🚀 I focus on building AI systems that go beyond theoretical models to deliver tangible business outcomes. FutureSmart AI is committed to helping companies integrate AI effectively and stay competitive in this rapidly evolving field.\\n\\n🎥 In addition, I run AI Demos, a platform designed to showcase and educate people on the latest AI tools through hands-on video demonstrations.\\n\\n📩 Let’s connect! If you’re exploring AI-powered solutions, looking to optimize workflows with NLP, or interested in discussing the latest AI advancements, feel free to reach out.\\n\\nUpwork Profile: https://www.upwork.com/freelancers/pradipnichite\\n\\n\\nExperience:\\nExpert-Vetted at Upwork (https://www.linkedin.com/company/upwork)\\nJun 2023 - Present\\n\\n\\nEducation:\\nInternational Institute of Information Technology Bangalore\\nMaster of Technology - MTech, Data Science\\nJan 2016 - Dec 2018\\nGrade: 9.2/10\\nActivities and societies: N/A', 'score': 0.843393, 'raw_content': None}, {'title': 'Pradip Nichite - YouTube', 'url': 'https://www.youtube.com/channel/UCwpCmuWq_NPVLNyr8z1IGGQ', 'content': \"🎥🌟 Welcome to my YouTube Channel! I'm Pradip Nichite, a Top Rated Plus freelance Data Scientist on Upwork 💼, a successful digital nomad 🌍, and an entrepreneur. My journey in\", 'score': 0.76951396, 'raw_content': None}], 'response_time': 1.67}), AIMessage(content='The founder of FutureSmart AI is **Pradip Nichite**. Here is a summary of his background and accomplishments:\\n\\n### Pradip Nichite\\n\\n- **Role**: Founder & CEO of FutureSmart AI\\n- **Location**: Mumbai, India\\n- **LinkedIn**: [Profile](https://in.linkedin.com/in/pradipnichite)\\n\\n### Career Overview\\n- Pradip Nichite started his career as a software developer in 2013, focusing on backend and API development.\\n- He pursued a Master of Technology (M.Tech) in Data Science from the International Institute of Information Technology Bangalore, graduating in 2018 with a high grade of 9.2/10.\\n- After graduation, he worked as a Data Scientist at MiQ from 2018 to 2020 and later as a Lead Data Scientist at Oracle until 2022.\\n\\n### Freelancing and Entrepreneurship\\n- In 2022, Pradip transitioned into freelancing, where he built custom Natural Language Processing (NLP) and AI solutions for global clients. He achieved over $300,000 in earnings on Upwork with a perfect job success rate and earned Expert-Vetted status, ranking him among the top 1% of freelancers on the platform.\\n- Inspired by his freelancing success, he founded FutureSmart AI in September 2022. The company focuses on developing custom AI solutions, particularly in Generative AI, Retrieval-Augmented Generation (RAG), NL2SQL, and Large Language Models (LLMs).\\n\\n### Expertise and Skills\\nPradip is proficient in:\\n- **Generative AI & NLP**: Including LLMs, RAG, AI agents, and chatbots.\\n- **Libraries & Frameworks**: Such as Transformers, LangChain, and LangGraph.\\n- **Backend & APIs**: Utilizing technologies like FastAPI, Python, and SQL.\\n- **Cloud Deployment**: Experience with AWS and GCP.\\n- **AI Automation**: Including document parsing and vector search databases.\\n\\n### Additional Ventures\\n- Pradip runs a platform called \"AI Demos,\" which showcases and educates about the latest AI tools through video demonstrations. \\n- He is also active on YouTube, where he shares insights and knowledge related to AI and data science.\\n\\n### Social Links\\n- [Upwork Profile](https://www.upwork.com/freelancers/pradipnichite)\\n- [YouTube Channel](https://www.youtube.com/channel/UCwpCmuWq_NPVLNyr8z1IGGQ)\\n\\nPradip Nichite is dedicated to developing AI systems that provide real business value and help companies effectively integrate AI solutions.', additional_kwargs={'refusal': None}, response_metadata={'token_usage': {'completion_tokens': 546, 'prompt_tokens': 2336, 'total_tokens': 2882, 'completion_tokens_details': {'accepted_prediction_tokens': 0, 'audio_tokens': 0, 'reasoning_tokens': 0, 'rejected_prediction_tokens': 0}, 'prompt_tokens_details': {'audio_tokens': 0, 'cached_tokens': 2176}}, 'model_name': 'gpt-4o-mini-2024-07-18', 'system_fingerprint': 'fp_bd83329f63', 'finish_reason': 'stop', 'logprobs': None}, id='run-ff29a6d2-1a05-4514-bfdc-f2cb45545bf1-0', usage_metadata={'input_tokens': 2336, 'output_tokens': 546, 'total_tokens': 2882, 'input_token_details': {'audio': 0, 'cache_read': 2176}, 'output_token_details': {'audio': 0, 'reasoning': 0}})]}\n",
      "********************\n",
      "(('web_researcher:a611dfb0-3793-debc-8c75-ba187c3105e1',), {'agent': {'messages': [AIMessage(content='The founder of FutureSmart AI is **Pradip Nichite**. Here is a summary of his background and accomplishments:\\n\\n### Pradip Nichite\\n\\n- **Role**: Founder & CEO of FutureSmart AI\\n- **Location**: Mumbai, India\\n- **LinkedIn**: [Profile](https://in.linkedin.com/in/pradipnichite)\\n\\n### Career Overview\\n- Pradip Nichite started his career as a software developer in 2013, focusing on backend and API development.\\n- He pursued a Master of Technology (M.Tech) in Data Science from the International Institute of Information Technology Bangalore, graduating in 2018 with a high grade of 9.2/10.\\n- After graduation, he worked as a Data Scientist at MiQ from 2018 to 2020 and later as a Lead Data Scientist at Oracle until 2022.\\n\\n### Freelancing and Entrepreneurship\\n- In 2022, Pradip transitioned into freelancing, where he built custom Natural Language Processing (NLP) and AI solutions for global clients. He achieved over $300,000 in earnings on Upwork with a perfect job success rate and earned Expert-Vetted status, ranking him among the top 1% of freelancers on the platform.\\n- Inspired by his freelancing success, he founded FutureSmart AI in September 2022. The company focuses on developing custom AI solutions, particularly in Generative AI, Retrieval-Augmented Generation (RAG), NL2SQL, and Large Language Models (LLMs).\\n\\n### Expertise and Skills\\nPradip is proficient in:\\n- **Generative AI & NLP**: Including LLMs, RAG, AI agents, and chatbots.\\n- **Libraries & Frameworks**: Such as Transformers, LangChain, and LangGraph.\\n- **Backend & APIs**: Utilizing technologies like FastAPI, Python, and SQL.\\n- **Cloud Deployment**: Experience with AWS and GCP.\\n- **AI Automation**: Including document parsing and vector search databases.\\n\\n### Additional Ventures\\n- Pradip runs a platform called \"AI Demos,\" which showcases and educates about the latest AI tools through video demonstrations. \\n- He is also active on YouTube, where he shares insights and knowledge related to AI and data science.\\n\\n### Social Links\\n- [Upwork Profile](https://www.upwork.com/freelancers/pradipnichite)\\n- [YouTube Channel](https://www.youtube.com/channel/UCwpCmuWq_NPVLNyr8z1IGGQ)\\n\\nPradip Nichite is dedicated to developing AI systems that provide real business value and help companies effectively integrate AI solutions.', additional_kwargs={'refusal': None}, response_metadata={'token_usage': {'completion_tokens': 546, 'prompt_tokens': 2336, 'total_tokens': 2882, 'completion_tokens_details': {'accepted_prediction_tokens': 0, 'audio_tokens': 0, 'reasoning_tokens': 0, 'rejected_prediction_tokens': 0}, 'prompt_tokens_details': {'audio_tokens': 0, 'cached_tokens': 2176}}, 'model_name': 'gpt-4o-mini-2024-07-18', 'system_fingerprint': 'fp_bd83329f63', 'finish_reason': 'stop', 'logprobs': None}, id='run-ff29a6d2-1a05-4514-bfdc-f2cb45545bf1-0', usage_metadata={'input_tokens': 2336, 'output_tokens': 546, 'total_tokens': 2882, 'input_token_details': {'audio': 0, 'cache_read': 2176}, 'output_token_details': {'audio': 0, 'reasoning': 0}})]}})\n",
      "----\n",
      "((), {'web_researcher': {'messages': [HumanMessage(content='The founder of FutureSmart AI is **Pradip Nichite**. Here is a summary of his background and accomplishments:\\n\\n### Pradip Nichite\\n\\n- **Role**: Founder & CEO of FutureSmart AI\\n- **Location**: Mumbai, India\\n- **LinkedIn**: [Profile](https://in.linkedin.com/in/pradipnichite)\\n\\n### Career Overview\\n- Pradip Nichite started his career as a software developer in 2013, focusing on backend and API development.\\n- He pursued a Master of Technology (M.Tech) in Data Science from the International Institute of Information Technology Bangalore, graduating in 2018 with a high grade of 9.2/10.\\n- After graduation, he worked as a Data Scientist at MiQ from 2018 to 2020 and later as a Lead Data Scientist at Oracle until 2022.\\n\\n### Freelancing and Entrepreneurship\\n- In 2022, Pradip transitioned into freelancing, where he built custom Natural Language Processing (NLP) and AI solutions for global clients. He achieved over $300,000 in earnings on Upwork with a perfect job success rate and earned Expert-Vetted status, ranking him among the top 1% of freelancers on the platform.\\n- Inspired by his freelancing success, he founded FutureSmart AI in September 2022. The company focuses on developing custom AI solutions, particularly in Generative AI, Retrieval-Augmented Generation (RAG), NL2SQL, and Large Language Models (LLMs).\\n\\n### Expertise and Skills\\nPradip is proficient in:\\n- **Generative AI & NLP**: Including LLMs, RAG, AI agents, and chatbots.\\n- **Libraries & Frameworks**: Such as Transformers, LangChain, and LangGraph.\\n- **Backend & APIs**: Utilizing technologies like FastAPI, Python, and SQL.\\n- **Cloud Deployment**: Experience with AWS and GCP.\\n- **AI Automation**: Including document parsing and vector search databases.\\n\\n### Additional Ventures\\n- Pradip runs a platform called \"AI Demos,\" which showcases and educates about the latest AI tools through video demonstrations. \\n- He is also active on YouTube, where he shares insights and knowledge related to AI and data science.\\n\\n### Social Links\\n- [Upwork Profile](https://www.upwork.com/freelancers/pradipnichite)\\n- [YouTube Channel](https://www.youtube.com/channel/UCwpCmuWq_NPVLNyr8z1IGGQ)\\n\\nPradip Nichite is dedicated to developing AI systems that provide real business value and help companies effectively integrate AI solutions.', additional_kwargs={}, response_metadata={}, name='web_researcher')]}})\n",
      "----\n",
      "Next Worker: FINISH\n",
      "((), {'supervisor': None})\n",
      "----\n"
     ]
    }
   ],
   "source": [
    "# Example: Complex Query Using Multiple Agents\n",
    "input_question = \"Find the founder of FutureSmart AI and then do a web research on him\"\n",
    "for s in graph.stream(\n",
    "    {\"messages\": [(\"user\", input_question)]}, \n",
    "    subgraphs=True\n",
    "):\n",
    "    print(s)\n",
    "    print(\"----\")"
   ]
  },
  {
   "cell_type": "code",
   "execution_count": null,
   "metadata": {},
   "outputs": [],
   "source": []
  },
  {
   "cell_type": "code",
   "execution_count": null,
   "metadata": {},
   "outputs": [],
   "source": []
  },
  {
   "cell_type": "code",
   "execution_count": null,
   "metadata": {},
   "outputs": [],
   "source": []
  },
  {
   "cell_type": "code",
   "execution_count": null,
   "metadata": {},
   "outputs": [],
   "source": []
  },
  {
   "cell_type": "code",
   "execution_count": null,
   "metadata": {},
   "outputs": [],
   "source": []
  },
  {
   "cell_type": "code",
   "execution_count": null,
   "metadata": {},
   "outputs": [],
   "source": []
  }
 ],
 "metadata": {
  "kernelspec": {
   "display_name": "base",
   "language": "python",
   "name": "python3"
  },
  "language_info": {
   "codemirror_mode": {
    "name": "ipython",
    "version": 3
   },
   "file_extension": ".py",
   "mimetype": "text/x-python",
   "name": "python",
   "nbconvert_exporter": "python",
   "pygments_lexer": "ipython3",
   "version": "3.12.2"
  }
 },
 "nbformat": 4,
 "nbformat_minor": 2
}
