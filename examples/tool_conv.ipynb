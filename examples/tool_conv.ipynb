{
 "cells": [
  {
   "cell_type": "code",
   "execution_count": 4,
   "metadata": {},
   "outputs": [
    {
     "name": "stdout",
     "output_type": "stream",
     "text": [
      "Temperature: 70.0°F\n",
      "Wind: 5.0 mph NE\n"
     ]
    },
    {
     "name": "stderr",
     "output_type": "stream",
     "text": [
      "/tmp/ipykernel_4652/1466583773.py:46: LangChainDeprecationWarning: The method `BaseTool.__call__` was deprecated in langchain-core 0.1.47 and will be removed in 1.0. Use :meth:`~invoke` instead.\n",
      "  weather_data = get_weather({\"city\": \"nyc\"})\n"
     ]
    }
   ],
   "source": [
    "from pydantic import BaseModel, Field\n",
    "from typing import Literal\n",
    "from langchain_core.tools import tool\n",
    "from langchain_anthropic import ChatAnthropic\n",
    "from langgraph.graph import MessagesState\n",
    "\n",
    "\n",
    "class WeatherResponse(BaseModel):\n",
    "    \"\"\"Response model for weather data\"\"\"\n",
    "    temperature: float = Field(description=\"The temperature in fahrenheit\")\n",
    "    wind_direction: str = Field(description=\"The direction of the wind in abbreviated form\")\n",
    "    wind_speed: float = Field(description=\"The speed of the wind in km/h\")\n",
    "\n",
    "\n",
    "class WeatherInput(BaseModel):\n",
    "    \"\"\"Input model for weather data\"\"\"\n",
    "    city: str = Field(description=\"The city to get the weather data for\")\n",
    "\n",
    "@tool(\"weather-tool\", args_schema=WeatherInput)\n",
    "def get_weather(city : WeatherInput) -> WeatherResponse:\n",
    "    \"\"\"Get weather information for a specific city.\n",
    "    \n",
    "    Args:\n",
    "        city: The city to get weather for (must be either \"nyc\" or \"sf\")\n",
    "        \n",
    "    Returns:\n",
    "        WeatherResponse: Weather data for the specified city\n",
    "    \"\"\"\n",
    "    if city == \"nyc\":\n",
    "        return WeatherResponse(\n",
    "            temperature=70.0,\n",
    "            wind_direction=\"NE\",\n",
    "            wind_speed=5.0\n",
    "        )\n",
    "    elif city == \"sf\":\n",
    "        return WeatherResponse(\n",
    "            temperature=75.0,\n",
    "            wind_direction=\"SE\", \n",
    "            wind_speed=3.0\n",
    "        )\n",
    "    else:\n",
    "        raise ValueError(f\"Unknown city: {city}\")\n",
    "\n",
    "\n",
    "# Example usage\n",
    "weather_data = get_weather({\"city\": \"nyc\"})\n",
    "print(f\"Temperature: {weather_data.temperature}°F\")\n",
    "print(f\"Wind: {weather_data.wind_speed} mph {weather_data.wind_direction}\")"
   ]
  },
  {
   "cell_type": "code",
   "execution_count": 3,
   "metadata": {},
   "outputs": [
    {
     "name": "stdout",
     "output_type": "stream",
     "text": [
      "multiplication-tool\n",
      "Multiply two numbers.\n",
      "{'a': {'description': 'first number', 'title': 'A', 'type': 'integer'}, 'b': {'description': 'second number', 'title': 'B', 'type': 'integer'}}\n",
      "False\n"
     ]
    }
   ],
   "source": [
    "from pydantic import BaseModel, Field\n",
    "from langchain_core.tools import tool\n",
    "\n",
    "class CalculatorInput(BaseModel):\n",
    "    a: int = Field(description=\"first number\")\n",
    "    b: int = Field(description=\"second number\")\n",
    "\n",
    "\n",
    "@tool(\"multiplication-tool\", args_schema=CalculatorInput, return_direct=False)\n",
    "def multiply(a: int, b: int) -> int:\n",
    "    \"\"\"Multiply two numbers.\"\"\"\n",
    "    return a * b\n",
    "\n",
    "\n",
    "# Let's inspect some of the attributes associated with the tool.\n",
    "print(multiply.name)\n",
    "print(multiply.description)\n",
    "print(multiply.args)\n",
    "print(multiply.return_direct)\n",
    "\n",
    "x = multiply.invoke({\"a\": 2, \"b\": 3})"
   ]
  },
  {
   "cell_type": "code",
   "execution_count": null,
   "metadata": {},
   "outputs": [],
   "source": []
  },
  {
   "cell_type": "code",
   "execution_count": null,
   "metadata": {},
   "outputs": [],
   "source": []
  },
  {
   "cell_type": "code",
   "execution_count": null,
   "metadata": {},
   "outputs": [],
   "source": []
  }
 ],
 "metadata": {
  "kernelspec": {
   "display_name": "base",
   "language": "python",
   "name": "python3"
  },
  "language_info": {
   "codemirror_mode": {
    "name": "ipython",
    "version": 3
   },
   "file_extension": ".py",
   "mimetype": "text/x-python",
   "name": "python",
   "nbconvert_exporter": "python",
   "pygments_lexer": "ipython3",
   "version": "3.12.2"
  }
 },
 "nbformat": 4,
 "nbformat_minor": 2
}
